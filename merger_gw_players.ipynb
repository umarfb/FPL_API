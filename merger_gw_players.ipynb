{
 "cells": [
  {
   "cell_type": "markdown",
   "id": "397e32a9-b173-4399-b5f0-cdfe9b892e73",
   "metadata": {},
   "source": [
    "Merge gameweek and player tables to include player details"
   ]
  },
  {
   "cell_type": "code",
   "execution_count": 1,
   "id": "33b90ebb-723c-43ce-b0dd-0bf36c30cd8b",
   "metadata": {},
   "outputs": [],
   "source": [
    "import pandas as pd\n",
    "import numpy as np"
   ]
  },
  {
   "cell_type": "code",
   "execution_count": 16,
   "id": "76b406a9-121e-4d12-8b7d-17ce010c6369",
   "metadata": {},
   "outputs": [],
   "source": [
    "# Load players and teams table\n",
    "players_data = pd.read_csv('players.csv')\n",
    "teams_data = pd.read_csv('teams.csv')\n",
    "\n",
    "# Load GW1 data\n",
    "gw1_data  = pd.read_csv('GW1_players.csv')\n",
    "gw2_data = pd.read_csv('GW2_players.csv')\n",
    "gw3_data = pd.read_csv('GW3_players.csv')"
   ]
  },
  {
   "cell_type": "code",
   "execution_count": 17,
   "id": "8693f8af-ad82-498b-90d0-f41b332ecdfd",
   "metadata": {},
   "outputs": [],
   "source": [
    "# Method to merge gameweek and players table\n",
    "def merge_gameweek_players(gw_table, players_table):\n",
    "    \n",
    "    player_cols = ['id', 'team', 'web_name', 'element_type']\n",
    "    merged_table = gw_table.merge(players_table[cols], left_on='element', right_on='id').drop(columns='id')\n",
    "    \n",
    "    return merged_table"
   ]
  },
  {
   "cell_type": "code",
   "execution_count": 18,
   "id": "ae33fb2d-347f-487a-b3be-29545b1326b2",
   "metadata": {},
   "outputs": [],
   "source": [
    "gw1_data_merge = merge_gameweek_players(gw1_data, players_data)\n",
    "gw2_data_merge = merge_gameweek_players(gw2_data, players_data)\n",
    "gw3_data_merge = merge_gameweek_players(gw3_data, players_data)"
   ]
  },
  {
   "cell_type": "code",
   "execution_count": 19,
   "id": "3110f901-b5bb-4fb4-b770-d940f6189c5a",
   "metadata": {},
   "outputs": [],
   "source": [
    "gw1_data_merge.to_csv('GW1_merged.csv', index=None)\n",
    "gw2_data_merge.to_csv('GW2_merged.csv', index=None)\n",
    "gw3_data_merge.to_csv('GW3_merged.csv', index=None)"
   ]
  }
 ],
 "metadata": {
  "kernelspec": {
   "display_name": "Python 3 (ipykernel)",
   "language": "python",
   "name": "python3"
  },
  "language_info": {
   "codemirror_mode": {
    "name": "ipython",
    "version": 3
   },
   "file_extension": ".py",
   "mimetype": "text/x-python",
   "name": "python",
   "nbconvert_exporter": "python",
   "pygments_lexer": "ipython3",
   "version": "3.8.10"
  }
 },
 "nbformat": 4,
 "nbformat_minor": 5
}
