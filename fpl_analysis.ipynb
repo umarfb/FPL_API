{
 "cells": [
  {
   "cell_type": "markdown",
   "id": "7a1c06be-5fbf-4e47-9a07-af2887bd64af",
   "metadata": {},
   "source": [
    "Do some analysis on FPL players"
   ]
  },
  {
   "cell_type": "code",
   "execution_count": 1,
   "id": "495de3bc-0aaa-4d4a-8e14-69a95b55d454",
   "metadata": {},
   "outputs": [],
   "source": [
    "import pandas as pd\n",
    "import numpy as np\n",
    "import matplotlib.pyplot as plt"
   ]
  },
  {
   "cell_type": "code",
   "execution_count": 29,
   "id": "f871b670-572d-4743-b128-8367a3d71ae0",
   "metadata": {},
   "outputs": [
    {
     "name": "stdout",
     "output_type": "stream",
     "text": [
      "No. of players in gameweek 1: 573\n"
     ]
    }
   ],
   "source": [
    "# Load teams and player data\n",
    "players_data = pd.read_csv('players.csv')\n",
    "teams_data = pd.read_csv('teams.csv')\n",
    "\n",
    "# Load GW1 players data\n",
    "gw1_data = pd.read_csv('data/GW1.csv')\n",
    "print('No. of players in gameweek 1:', len(gw1_data))\n",
    "\n",
    "pos_type = {1:'GK', 2:'DEF', 3:'MID', 4:'FWD'}\n",
    "teams_id = dict(list(zip(teams_data['id'], teams_data['short_name'])))"
   ]
  },
  {
   "cell_type": "code",
   "execution_count": 3,
   "id": "160db758-c43b-45e9-8e54-cdb4c835d21d",
   "metadata": {},
   "outputs": [
    {
     "name": "stdout",
     "output_type": "stream",
     "text": [
      "No. of players with more than 0 minutes played: 297\n"
     ]
    }
   ],
   "source": [
    "# Get players with at least 1 minute played\n",
    "gw1_data_played = gw1_data[gw1_data['minutes'] > 0]\n",
    "print('No. of players with more than 0 minutes played:', len(gw1_data_played))"
   ]
  },
  {
   "cell_type": "code",
   "execution_count": 37,
   "id": "b0916915-6b44-4f63-b0d8-7b9675cc0f94",
   "metadata": {},
   "outputs": [],
   "source": [
    "# Plot histogram \n",
    "def plot_hist(axs, bins, data, xlabel=None, ylabel=None,\n",
    "              ec='k', fc='lightsteelblue'):\n",
    "    \n",
    "    axs.hist(data, bins=bins, histtype='stepfilled', ec=ec,\n",
    "             fc=fc)\n",
    "    axs.set_xlim(bins.min(), bins.max())\n",
    "    axs.set_xlabel(xlabel)\n",
    "    axs.set_ylabel(ylabel)\n",
    "    \n",
    "# Split table by position\n",
    "def split_by_position(data):\n",
    "    \n",
    "    gk_data = data[data['element_type']==1]\n",
    "    def_data = data[data['element_type']==2]\n",
    "    mid_data = data[data['element_type']==3]\n",
    "    fwd_data = data[data['element_type']==4]\n",
    "    \n",
    "    return gk_data, def_data, mid_data, fwd_data\n",
    "\n",
    "# Get the mean, 25th percentile, and maximum points\n",
    "def points_stats_summary(data):\n",
    "    \n",
    "    median = np.median(data)\n",
    "    upper_quartile = np.percentile(data, 90)\n",
    "    max_val = np.max(data)\n",
    "    \n",
    "    return median, upper_quartile, max_val\n",
    "\n",
    "# Get top point earning players\n",
    "def top_points_players(data, n_players):\n",
    "    \n",
    "    data = data.sort_values(by='total_points', ascending=False)\n",
    "    \n",
    "    return data[:n_players]\n",
    "\n",
    "# Print top players summary\n",
    "def top_players_summary(df, fpl_players):\n",
    "    \n",
    "    player_name = df.iloc[0]['web_name']\n",
    "    team =  teams_id[df.iloc[0]['team']]\n",
    "    points = df.iloc[0]['total_points']\n",
    "    value = df.iloc[0]['value']/10\n",
    "    owned = df.iloc[0]['selected'] * 100 / fpl_players\n",
    "    position = df.iloc[0]['element_type']\n",
    "    \n",
    "    print('Top {}: {} ({}), Points: {}, Value: £{}M, selected by: {:.1f}%'.format(\n",
    "        pos_type[position], player_name, team, points, value, owned))"
   ]
  },
  {
   "cell_type": "code",
   "execution_count": 7,
   "id": "33aa0356-a26c-4be0-9f2c-2e8f079e9f27",
   "metadata": {},
   "outputs": [
    {
     "data": {
      "image/png": "[encoded data removed]",
      "text/plain": [
       "<Figure size 1476x360 with 4 Axes>"
      ]
     },
     "metadata": {
      "needs_background": "light"
     },
     "output_type": "display_data"
    },
    {
     "name": "stdout",
     "output_type": "stream",
     "text": [
      "GK points  - Median:2.0, 90th percentile:6.0, Max:7\n",
      "DEF points - Median:1.0, 90th percentile:7.0, Max:15\n",
      "MID points - Median:2.0, 90th percentile:6.0, Max:15\n",
      "FWD points - Median:1.0, 90th percentile:7.5, Max:13\n"
     ]
    }
   ],
   "source": [
    "# Plot total points histogram\n",
    "gw1_total_points = gw1_data_played['total_points'].values\n",
    "total_points_bins = np.arange(gw1_total_points.min(), gw1_total_points.max()+1)\n",
    "\n",
    "xlabel = 'Points'\n",
    "ylabel = 'No. of players'\n",
    "fig, axs = plt.subplots(1, 4, figsize=(20.5, 5))\n",
    "\n",
    "#plot_hist(axs[0], bins=total_points_bins, data=gw1_total_points,\n",
    "#          xlabel=xlabel, ylabel=ylabel)\n",
    "\n",
    "# Plot total points histogram for each position\n",
    "gw1_gk = gw1_data_played[gw1_data_played['element_type']==1]\n",
    "gk_bins = np.arange(gw1_gk['total_points'].min(), gw1_gk['total_points'].max()+1)\n",
    "plot_hist(axs[0], bins=total_points_bins, data=gw1_gk['total_points'], xlabel=xlabel, ylabel=ylabel)\n",
    "\n",
    "gw1_def = gw1_data_played[gw1_data_played['element_type']==2]\n",
    "def_bins = np.arange(gw1_def['total_points'].min(), gw1_def['total_points'].max()+1)\n",
    "plot_hist(axs[1], bins=total_points_bins, data=gw1_def['total_points'], xlabel=xlabel, ylabel=ylabel)\n",
    "\n",
    "gw1_mid = gw1_data_played[gw1_data_played['element_type']==3]\n",
    "mid_bins = np.arange(gw1_mid['total_points'].min(), gw1_mid['total_points'].max()+1)\n",
    "plot_hist(axs[2], bins=total_points_bins, data=gw1_mid['total_points'], xlabel=xlabel, ylabel=ylabel)\n",
    "\n",
    "gw1_fwd = gw1_data_played[gw1_data_played['element_type']==4]\n",
    "fwd_bins = np.arange(gw1_fwd['total_points'].min(), gw1_fwd['total_points'].max()+1)\n",
    "plot_hist(axs[3], bins=total_points_bins, data=gw1_fwd['total_points'], xlabel=xlabel, ylabel=ylabel)\n",
    "\n",
    "plt.tight_layout()\n",
    "plt.show()\n",
    "\n",
    "gk_median, gk_uq, gk_max = points_stats_summary(gw1_gk_points['total_points'])\n",
    "def_median, def_uq, def_max = points_stats_summary(gw1_def['total_points'])\n",
    "mid_median, mid_uq, mid_max = points_stats_summary(gw1_mid['total_points'])\n",
    "fwd_median, fwd_uq, fwd_max = points_stats_summary(gw1_fwd['total_points'])\n",
    "\n",
    "print('GK points  - Median:{}, 90th percentile:{}, Max:{}'.format(gk_median, gk_uq, gk_max))\n",
    "print('DEF points - Median:{}, 90th percentile:{}, Max:{}'.format(def_median, def_uq, def_max))\n",
    "print('MID points - Median:{}, 90th percentile:{}, Max:{}'.format(mid_median, mid_uq, mid_max))\n",
    "print('FWD points - Median:{}, 90th percentile:{}, Max:{}'.format(fwd_median, fwd_uq, fwd_max))"
   ]
  },
  {
   "cell_type": "code",
   "execution_count": 38,
   "id": "f17cf5f8-f201-47bb-b6c6-657f69b42761",
   "metadata": {},
   "outputs": [
    {
     "name": "stdout",
     "output_type": "stream",
     "text": [
      "==================== GAMEWEEK 01 ====================\n",
      "Top GK: Ederson (MCI), Points: 7, Value: £5.5M, selected by: 13.3%\n",
      "Top DEF: Schär (NEW), Points: 15, Value: £4.5M, selected by: 0.4%\n",
      "Top MID: Groß (BHA), Points: 15, Value: £5.5M, selected by: 0.1%\n",
      "Top FWD: Mitrović (FUL), Points: 13, Value: £6.5M, selected by: 5.5%\n"
     ]
    }
   ],
   "source": [
    "# Split data into positions\n",
    "gw1_gk, gw1_def, gw1_mid, gw1_fwd = split_by_position(gw1_data)\n",
    "gw1_pos = [gw1_gk, gw1_def, gw1_mid, gw1_fwd]\n",
    "top_pos = [top_points_players(df, 10) for df in gw1_pos]\n",
    "\n",
    "# Need to account for tied top point earners\n",
    "print('='*20 + ' GAMEWEEK 01 ' + '='*20)\n",
    "for df in top_pos:\n",
    "    top_players_summary(df, 9.3e6)"
   ]
  },
  {
   "cell_type": "code",
   "execution_count": 39,
   "id": "32f1e275-1fe5-4524-a0de-6d516cd54846",
   "metadata": {},
   "outputs": [
    {
     "name": "stdout",
     "output_type": "stream",
     "text": [
      "==================== GAMEWEEK 02 ====================\n",
      "Top GK: Sá (WOL), Points: 15, Value: £5.0M, selected by: 3.4%\n",
      "Top DEF: Mee (BRE), Points: 14, Value: £4.5M, selected by: 0.3%\n",
      "Top MID: Rodrigo (LEE), Points: 15, Value: £6.0M, selected by: 1.7%\n",
      "Top FWD: Jesus (ARS), Points: 19, Value: £8.0M, selected by: 66.1%\n"
     ]
    }
   ],
   "source": [
    "# Do the same as above\n",
    "gw2_data = pd.read_csv('data/GW2.csv')\n",
    "gw2_pos = split_by_position(gw2_data)\n",
    "top_pos = [top_points_players(df, 10) for df in gw2_pos]\n",
    "\n",
    "print('='*20 + ' GAMEWEEK 02 ' + '='*20)\n",
    "for df in top_pos:\n",
    "    top_players_summary(df, 9.4e6)"
   ]
  },
  {
   "cell_type": "code",
   "execution_count": 40,
   "id": "eeab0676-1b51-4678-acd1-0deb51634ec6",
   "metadata": {},
   "outputs": [
    {
     "name": "stdout",
     "output_type": "stream",
     "text": [
      "==================== GAMEWEEK 03 ====================\n",
      "Top GK: Martínez (AVL), Points: 10, Value: £5.0M, selected by: 5.1%\n",
      "Top DEF: Saliba (ARS), Points: 14, Value: £4.5M, selected by: 5.5%\n",
      "Top MID: Ødegaard (ARS), Points: 16, Value: £6.4M, selected by: 10.8%\n",
      "Top FWD: Adams (SOU), Points: 12, Value: £6.4M, selected by: 0.5%\n"
     ]
    }
   ],
   "source": [
    "# Do the same as above\n",
    "gw3_data = pd.read_csv('data/GW3.csv')\n",
    "gw3_pos = split_by_position(gw3_data)\n",
    "top_pos = [top_points_players(df, 10) for df in gw3_pos]\n",
    "\n",
    "print('='*20 + ' GAMEWEEK 03 ' + '='*20)\n",
    "for df in top_pos:\n",
    "    top_players_summary(df, 9.5e6)"
   ]
  }
 ],
 "metadata": {
  "kernelspec": {
   "display_name": "Python 3 (ipykernel)",
   "language": "python",
   "name": "python3"
  },
  "language_info": {
   "codemirror_mode": {
    "name": "ipython",
    "version": 3
   },
   "file_extension": ".py",
   "mimetype": "text/x-python",
   "name": "python",
   "nbconvert_exporter": "python",
   "pygments_lexer": "ipython3",
   "version": "3.8.10"
  }
 },
 "nbformat": 4,
 "nbformat_minor": 5
}
