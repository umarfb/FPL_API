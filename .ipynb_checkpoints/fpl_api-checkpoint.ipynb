{
 "cells": [
  {
   "cell_type": "markdown",
   "id": "53e9a848-bfaa-43a8-a4a1-57eb3097e792",
   "metadata": {},
   "source": [
    "Request FPL data with the FPL API"
   ]
  },
  {
   "cell_type": "code",
   "execution_count": 53,
   "id": "3df30d99-1a93-453f-ba48-b6bbc2d59425",
   "metadata": {},
   "outputs": [],
   "source": [
    "import requests\n",
    "import json\n",
    "import pandas as pd\n",
    "import numpy as np"
   ]
  },
  {
   "cell_type": "code",
   "execution_count": 2,
   "id": "304be63d-85d2-470a-a016-528153bd2d71",
   "metadata": {},
   "outputs": [],
   "source": [
    "bootstrap_url = \"https://fantasy.premierleague.com/api/bootstrap-static/\" # Bootstrap URL\n",
    "player_url = \"https://fantasy.premierleague.com/api/element-summary/{}/\" # Detailed player data URL\n",
    "gameweek_url = \"https://fantasy.premierleague.com/api/event/{}/live/\" # Gameweek data URL"
   ]
  },
  {
   "cell_type": "code",
   "execution_count": 72,
   "id": "a742cad2-1ad7-49eb-99da-ed8350a8aee8",
   "metadata": {},
   "outputs": [],
   "source": [
    "# Method to request data using API\n",
    "def api_request(url, verbose=True):\n",
    "    \n",
    "    response = requests.get(url)\n",
    "    status_code = response.status_code\n",
    "    \n",
    "    if status_code == 200:\n",
    "        if verbose == True:\n",
    "            print('Request from {} successful'.format(url))\n",
    "        return response.json()\n",
    "    else:\n",
    "        print('Error ', status_code)\n",
    "    \n",
    "# Method to get gameweek player IDs\n",
    "def get_gameweek_ids(gw, url=gameweek_url):\n",
    "    \n",
    "    gw_url = url.format(gw)\n",
    "    gw_data = api_request(gw_url)['elements']\n",
    "    \n",
    "    gw_player_ids = [d['id'] for d in gw_data]\n",
    "    \n",
    "    return gw_player_ids\n",
    "\n",
    "# Get detailed player data for a specific gameweek\n",
    "def get_gameweek_stats(gw, player_id, url=player_url, verbose=False):\n",
    "    \n",
    "    player_data = api_request(url.format(player_id), verbose=verbose)\n",
    "    history = player_data['history']\n",
    "    \n",
    "    gameweek_flag = [d['round']==gw for d in history]\n",
    "    gameweek_player_stats = np.array(history)[gameweek_flag][0]\n",
    "    \n",
    "    return gameweek_player_stats"
   ]
  },
  {
   "cell_type": "code",
   "execution_count": 82,
   "id": "28115c44-fe8e-4846-aba1-04c98ba48f08",
   "metadata": {},
   "outputs": [
    {
     "name": "stdout",
     "output_type": "stream",
     "text": [
      "Request from https://fantasy.premierleague.com/api/bootstrap-static/ successful\n"
     ]
    }
   ],
   "source": [
    "basic_data = api_request(bootstrap_url)\n",
    "\n",
    "# Get teams and player ids\n",
    "teams_data = pd.DataFrame(basic_data['teams'])\n",
    "players_data = pd.DataFrame(basic_data['elements'])\n",
    "\n",
    "teams_data.to_csv('teams.csv', index=None)\n",
    "players_data.to_csv('players.csv', index=None)"
   ]
  },
  {
   "cell_type": "code",
   "execution_count": 73,
   "id": "beee3a8b-99c9-4fac-9583-9d1c85ee830e",
   "metadata": {},
   "outputs": [
    {
     "name": "stdout",
     "output_type": "stream",
     "text": [
      "Request from https://fantasy.premierleague.com/api/event/1/live/ successful\n"
     ]
    }
   ],
   "source": [
    "gw1_ids = get_gameweek_ids(gw=1)\n",
    "gw1_player_stats = []\n",
    "for i in gw1_ids:\n",
    "    gw1_player_data = get_gameweek_stats(gw=1, player_id=i)\n",
    "    gw1_player_stats.append(gw1_player_data)"
   ]
  },
  {
   "cell_type": "code",
   "execution_count": 75,
   "id": "95f35d6b-0ca3-46f3-92cf-1dc675b410b1",
   "metadata": {},
   "outputs": [],
   "source": [
    "gw1_table = pd.DataFrame(gw1_player_stats)\n",
    "gw1_table.to_csv('GW1_players.csv', index=None)"
   ]
  },
  {
   "cell_type": "code",
   "execution_count": 76,
   "id": "f76c7018-0636-4882-9866-86b644cce214",
   "metadata": {},
   "outputs": [
    {
     "name": "stdout",
     "output_type": "stream",
     "text": [
      "Request from https://fantasy.premierleague.com/api/event/2/live/ successful\n"
     ]
    }
   ],
   "source": [
    "gw2_ids = get_gameweek_ids(gw=2)\n",
    "gw2_player_stats = []\n",
    "for i in gw2_ids:\n",
    "    gw_player_data = get_gameweek_stats(gw=2, player_id=i)\n",
    "    gw2_player_stats.append(gw_player_data)"
   ]
  },
  {
   "cell_type": "code",
   "execution_count": 77,
   "id": "3f273b79-943d-49a1-b41a-4622bfd07cb3",
   "metadata": {},
   "outputs": [],
   "source": [
    "gw2_table = pd.DataFrame(gw2_player_stats)\n",
    "gw2_table.to_csv('GW2_players.csv', index=None)"
   ]
  }
 ],
 "metadata": {
  "kernelspec": {
   "display_name": "Python 3 (ipykernel)",
   "language": "python",
   "name": "python3"
  },
  "language_info": {
   "codemirror_mode": {
    "name": "ipython",
    "version": 3
   },
   "file_extension": ".py",
   "mimetype": "text/x-python",
   "name": "python",
   "nbconvert_exporter": "python",
   "pygments_lexer": "ipython3",
   "version": "3.8.10"
  }
 },
 "nbformat": 4,
 "nbformat_minor": 5
}
